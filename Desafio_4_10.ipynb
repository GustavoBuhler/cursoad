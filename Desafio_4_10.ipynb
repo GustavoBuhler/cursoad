{
  "nbformat": 4,
  "nbformat_minor": 0,
  "metadata": {
    "colab": {
      "provenance": [],
      "authorship_tag": "ABX9TyOskn9FAIBJNGuJ8blMZqKd",
      "include_colab_link": true
    },
    "kernelspec": {
      "name": "python3",
      "display_name": "Python 3"
    },
    "language_info": {
      "name": "python"
    }
  },
  "cells": [
    {
      "cell_type": "markdown",
      "metadata": {
        "id": "view-in-github",
        "colab_type": "text"
      },
      "source": [
        "<a href=\"https://colab.research.google.com/github/GustavoBuhler/cursoad/blob/main/Desafio_4_10.ipynb\" target=\"_parent\"><img src=\"https://colab.research.google.com/assets/colab-badge.svg\" alt=\"Open In Colab\"/></a>"
      ]
    },
    {
      "cell_type": "code",
      "execution_count": null,
      "metadata": {
        "id": "74CNplZzBV5c"
      },
      "outputs": [],
      "source": [
        "%%writefile Lista_de_CDs.csv\n",
        "id;valor_compra;nome_album;nome_artista;ano_lancamento\n",
        "001;39,99;Thriller;Michael Jackson;1982\n",
        "002;41,50;Back in Black;AC/DC;1980\n",
        "003;38,99;The Dark Side of the Moon;Pink Floyd;1973\n",
        "004;55,00;Their Greatest Hits (1971–1975);Eagles;1976\n",
        "005;47,85;Led Zeppelin IV;Led Zeppelin;1971\n",
        "006;44,70;Bad;Michael Jackson;1987\n",
        "007;47,20;Hotel California;Eagles;1976\n",
        "008;41,80;Falling into You;Celine Dion;1996\n",
        "009;43,99;Dangerous;Michael Jackson;1991\n",
        "010;52,50;ABBA Gold: Greatest Hits;ABBA;1992\n",
        "011;50,50;Born in the U.S.A.;Bruce Springsteen;1984\n",
        "012;46,80;Nevermind,Nirvana;1991\n",
        "013;49,99;The Wall;Pink Floyd;1979\n",
        "014;52,70;Greatest Hits;Queen;1981\n",
        "015;40,00;Bridge over Troubled Water;Simon & Garfunkel;1970"
      ]
    },
    {
      "cell_type": "code",
      "source": [
        "def total_e_media(nome_arquivo: str):\n",
        "\n",
        "  qtd_registros = 0\n",
        "  vlr_total = 0.0\n",
        "  vlr_medio = 0.0\n",
        "\n",
        "  with open(file=nome_arquivo, mode='r', encoding='utf8') as arquivo:\n",
        "      linha = arquivo.readline() # lê o cabeçalho\n",
        "      linha = arquivo.readline() # lê a primeira linha\n",
        "\n",
        "      while linha:                              # enquanto houverem registros\n",
        "          linha_separada = linha.split(sep=';') # quebra a string nos ponto-e-virgulas e salva em uma lista\n",
        "          vlr_item = linha_separada[1]          # extrai do arquivo a coluna 1 com o valor de compra do item\n",
        "          vlr_item = vlr_item.replace(\",\", \".\") # substitui a pontuação para permitir o cálculo\n",
        "          vlr_item = float(vlr_item)            # transforma a string em float para permitir o cálculo\n",
        "          vlr_total = vlr_total + vlr_item      # soma o valor do item atual com os itens anteriores\n",
        "          qtd_registros = qtd_registros + 1     # incrementa contador de quantidade de registros\n",
        "          linha = arquivo.readline()            # lê uma nova linha, se a linha não existir, salva o valor None\n",
        "\n",
        "      vlr_medio = vlr_total / qtd_registros     # calcula o valor médio dos itens\n",
        "\n",
        "      vlr_total_2c = \"{:.2f}\".format(vlr_total)     # transforma de float para string com somente duas casa decimais\n",
        "      vlr_total_2c = vlr_total_2c.replace(\".\", \",\") # substitui a pontuação para permitir impressão em Reais\n",
        "      vlr_medio_2c = \"{:.2f}\".format(vlr_medio)     # transforma de float para string com somente duas casa decimais\n",
        "      vlr_medio_2c = vlr_medio_2c.replace(\".\", \",\") # substitui a pontuação para permitir impressão em Reais\n",
        "\n",
        "  return qtd_registros, vlr_total_2c, vlr_medio_2c"
      ],
      "metadata": {
        "id": "AnGV303qiunX"
      },
      "execution_count": 51,
      "outputs": []
    },
    {
      "cell_type": "code",
      "source": [
        "# testar a função que lê o arquivo e calcula a quantidade de registros, o valor total e o valor médio\n",
        "registros, total, media = total_e_media(nome_arquivo='./Lista_de_CDs.csv')\n",
        "print(\"Esta coleção possui\", registros, \"CDs\")\n",
        "print(\"O valor total desta coleção é de R$\", total)\n",
        "print(\"O valor médio pago por cada CD é de R$\", media)"
      ],
      "metadata": {
        "colab": {
          "base_uri": "https://localhost:8080/"
        },
        "id": "uFN9pAtoUN8z",
        "outputId": "b670c7c4-c244-49cb-bbdb-a6edcaad9ca1"
      },
      "execution_count": 52,
      "outputs": [
        {
          "output_type": "stream",
          "name": "stdout",
          "text": [
            "Esta coleção possui 15 CDs\n",
            "O valor total desta coleção é de R$ 693,51\n",
            "O valor médio pago por cada CD é de R$ 46,23\n"
          ]
        }
      ]
    }
  ]
}